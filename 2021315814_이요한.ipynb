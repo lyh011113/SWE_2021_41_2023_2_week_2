{
  "cells": [
    {
      "cell_type": "markdown",
      "metadata": {
        "id": "TV3Socqg8BVl"
      },
      "source": [
        "## Task\n",
        "- Complete **isHappy** function following the description below\n",
        "\n",
        "### Happy Number\n",
        "Write an algorithm to determine if a number **n** is happy.\n",
        "\n",
        "A **happy number** is a number defined by the following process:\n",
        "\n",
        "* Starting with any positive integer, replace the number by the sum of the squares of its digits.\n",
        "* Repeat the process until the number equals 1 (where it will stay), or it **loops endlessly in a cycle** which does not include 1.\n",
        "* Those numbers for which this process **ends in 1** are happy.\n",
        "\n",
        "Return **true** if n is a happy number, and **false** if not.\n",
        "\n",
        "Constraints:\n",
        "1 <= n <= $2^{31}$ - 1"
      ]
    },
    {
      "cell_type": "code",
      "execution_count": 1,
      "metadata": {
        "id": "5FcxitVf5kdQ"
      },
      "outputs": [],
      "source": [
        "def isHappy(n):\n",
        "    def squares(num):\n",
        "        sum = 0\n",
        "        while num > 0:\n",
        "            digit = num % 10\n",
        "            sum += digit ** 2\n",
        "            num //= 10\n",
        "        return sum\n",
        "\n",
        "    sums = set()\n",
        "\n",
        "    while n != 1:\n",
        "        n = squares(n)\n",
        "        if n in sums:\n",
        "            return False\n",
        "        sums.add(n)\n",
        "\n",
        "    return True"
      ]
    },
    {
      "cell_type": "code",
      "execution_count": 3,
      "metadata": {},
      "outputs": [
        {
          "data": {
            "text/plain": [
              "True"
            ]
          },
          "execution_count": 3,
          "metadata": {},
          "output_type": "execute_result"
        }
      ],
      "source": [
        "isHappy(19)"
      ]
    },
    {
      "cell_type": "code",
      "execution_count": 4,
      "metadata": {},
      "outputs": [
        {
          "data": {
            "text/plain": [
              "False"
            ]
          },
          "execution_count": 4,
          "metadata": {},
          "output_type": "execute_result"
        }
      ],
      "source": [
        "isHappy(2)"
      ]
    },
    {
      "cell_type": "markdown",
      "metadata": {
        "id": "eRrh24Ognrqf"
      },
      "source": [
        "**Testcase 1.**\n",
        "\n",
        "**Input**: n = 19\n",
        "\n",
        "**Output**: True\n",
        "\n",
        "**Explanation**:\n",
        "\n",
        "$1^2 + 9^2 = 82$\n",
        "\n",
        "$8^2 + 2^2 = 68$\n",
        "\n",
        "$6^2 + 2^2 = 100$\n",
        "\n",
        "$1^2 + 0^2 + 0^2 = 1$"
      ]
    },
    {
      "cell_type": "markdown",
      "metadata": {
        "id": "dE7YMY8qoPoj"
      },
      "source": [
        "**Testcase 2.**\n",
        "\n",
        "**Input**: n = 2\n",
        "\n",
        "**Output**: False"
      ]
    }
  ],
  "metadata": {
    "colab": {
      "provenance": []
    },
    "kernelspec": {
      "display_name": "Python 3",
      "name": "python3"
    },
    "language_info": {
      "codemirror_mode": {
        "name": "ipython",
        "version": 3
      },
      "file_extension": ".py",
      "mimetype": "text/x-python",
      "name": "python",
      "nbconvert_exporter": "python",
      "pygments_lexer": "ipython3",
      "version": "3.9.17"
    }
  },
  "nbformat": 4,
  "nbformat_minor": 0
}
